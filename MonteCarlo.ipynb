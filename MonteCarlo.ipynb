{
 "cells": [
  {
   "cell_type": "markdown",
   "metadata": {},
   "source": [
    "# Monte-Carlo Simulation\n",
    "\n",
    "## Aufgabenstellung\n",
    "\n",
    "Wir betrachten weiter den Federspeicher aus Assignment 1. Diesmal simulieren wir die Ergebnisse der Fertigung für $N=10.000$ Zylinder. In diesem Assignment kommt die Federrate dazu. Das Federpaket besteht aus 24 Einzelfedern, die ineinander gesteckt auf dem Umfang des Zylinder verteilt sind. Die Toleranzen der Federn sind recht groß. Die Federn sind nominal\n",
    "\n",
    "- $c_1 = (100 \\pm 20)\\, \\mathrm{N/mm}$ \n",
    "- $c_2 = (150 \\pm 30)\\, \\mathrm{N/mm}$ \n",
    "- $c_3 = (200 \\pm 40)\\, \\mathrm{N/mm}$ \n",
    "\n",
    "Die Gesamtfederrate ergibt sich als\n",
    "\n",
    "$$\n",
    "c = \\sum_{i=1}^{3} \\sum_{j=1}^{8} c_{i,j}\n",
    "$$\n",
    "\n",
    "Die geometrischen Eigenschaften entspricht dem ersten Assignment:\n",
    "\n",
    " - Deviation $d$/mm: Gleichverteilt, $[-0.05, 0.05]\\,\\mathrm{mm}$\n",
    " - Deviation $h_{1}$/mm: Gleichverteilt, $[-0.05, 0.05]\\,\\mathrm{mm}$\n",
    " - Deviation $h_{2}$/mm: Gleichverteilt, $[-0.05, 0.05]\\,\\mathrm{mm}$\n",
    " - Dev. $l$/mm: Gleichverteilt, $[-0.05, 0.05]\\,\\mathrm{mm}$\n",
    "\n",
    "Mit diesen Abweichungen vom Mittelwert ergibt sich die Kraft des Federspeichers als\n",
    "\n",
    "$$\n",
    "F = 2 i c(1 + h_1 + h_2 + l + d)\n",
    "$$\n",
    "\n",
    "mit der Übersetzungsrate des Zylinders $i = 2.6$.\n",
    "\n",
    "Fragestellungen:\n",
    "\n",
    "1. Federpaket:\n",
    "   - a. Wie verhält sich das Federpaket im nominalen Zustand? Simuliert dazu mindestens $N=10^4$ stochastisch unabhängige Einzelfedern und bestimmt die Federrate von aus diesen Federn zusammengesetzten Federpaketen.\n",
    "   - b. Die Federn $c_3$ liegen innerhalb der Toleranzen mit $c_3 < 200 \\, \\mathrm{N/mm}$. Wie ändert sich die Federrate?\n",
    "2. Federspeicherzylinder: Welche Verteilungen ergeben sich für die Federspeicherzylinder mit Federpakete nach a. bzw. b.? Wie entwickelt sich der Anteil der konformen Einheiten ($F_{min} = 18 \\,\\mathrm{kN}$)?\n",
    "\n",
    "Beantwortet die Fragestellungen in einem technischen Bericht mit Einleitung, Analyse und Beantwortung der Fragen."
   ]
  },
  {
   "cell_type": "markdown",
   "metadata": {
    "vscode": {
     "languageId": "plaintext"
    }
   },
   "source": [
    "# Assigment 3 Monte-Carlo-Simulation \n",
    "### a.Nominaler Zustand"
   ]
  },
  {
   "cell_type": "code",
   "execution_count": 40,
   "metadata": {},
   "outputs": [],
   "source": [
    "import numpy as np\n",
    "import matplotlib.pyplot as plt\n",
    "\n",
    "N = 10000 #Anzahl Federspeicher\n",
    "P = 8 #Anzahl Federn Pro Paket \n"
   ]
  },
  {
   "cell_type": "markdown",
   "metadata": {},
   "source": [
    "Zu beginn erzeugen wir  $N=10^4$ stochastisch unabhängige Einzelfedern mit der Numpy.random Funktion"
   ]
  },
  {
   "cell_type": "code",
   "execution_count": 41,
   "metadata": {},
   "outputs": [],
   "source": [
    "def Simulation_Einzelfedern(N,P):\n",
    "\n",
    "    rng = np.random.default_rng()\n",
    "\n",
    "    c1_values = rng.uniform(low = 80, high = 120, size = (N,P))\n",
    "    c2_values = rng.uniform(low = 120, high = 180, size = (N,P))\n",
    "    c3_values = rng.uniform(low = 160, high = 240, size = (N,P))\n",
    "\n",
    "    return c1_values, c2_values, c3_values"
   ]
  },
  {
   "cell_type": "markdown",
   "metadata": {},
   "source": [
    "Nun werden die Simulierten Federn getestet, indem die Funktion mit dem Wert N=1 und P=8 aufgerufen wird.  "
   ]
  },
  {
   "cell_type": "code",
   "execution_count": 42,
   "metadata": {},
   "outputs": [
    {
     "data": {
      "text/plain": [
       "(array([[ 81.10490103, 104.14402325,  90.0277779 ,  81.91591878,\n",
       "         116.17712414,  96.69953889,  97.34786049,  88.12334437]]),\n",
       " array([[177.4624275 , 133.29731884, 166.36264893, 153.55279343,\n",
       "         179.60991794, 149.2251431 , 176.19061654, 164.80713402]]),\n",
       " array([[219.09412004, 197.75042623, 210.58709868, 187.80273048,\n",
       "         197.0508683 , 194.52209374, 196.56544687, 218.24671558]]))"
      ]
     },
     "execution_count": 42,
     "metadata": {},
     "output_type": "execute_result"
    }
   ],
   "source": [
    "Simulation_Einzelfedern(1,8)\n"
   ]
  },
  {
   "cell_type": "markdown",
   "metadata": {},
   "source": [
    "Zu erkennen ist das jeweiles 8 einzelne Federn generiert werden, welche einen Zufälligen Wert im Toleranz Bereich erhalten. "
   ]
  },
  {
   "cell_type": "markdown",
   "metadata": {},
   "source": [
    "Nun wird eine Funktion erstellt, womit die Federrate ausgerechnet wird. Hierbei handelt es sich "
   ]
  },
  {
   "cell_type": "code",
   "execution_count": 43,
   "metadata": {},
   "outputs": [],
   "source": [
    "def Gesamtfederrate(N,P):\n",
    "    c1_values, c2_values, c3_values = Simulation_Einzelfedern(N,P)\n",
    "\n",
    "    # Berechnung der Gesamtfederrate c\n",
    "    c_gesamt = np.sum(c1_values, axis = 1)+np.sum(c2_values, axis = 1)+np.sum(c3_values, axis = 1)\n",
    "\n",
    "    return c_gesamt "
   ]
  },
  {
   "cell_type": "code",
   "execution_count": 59,
   "metadata": {},
   "outputs": [
    {
     "name": "stdout",
     "output_type": "stream",
     "text": [
      " Durchschnittliche Federrate: 3600.83 N/mm\n",
      " Varianz: 7752.41 (N/mm)²\n",
      " Standartabweichung: 88.05 N/mm \n"
     ]
    },
    {
     "data": {
      "image/png": "[encoded data removed]",
      "text/plain": [
       "<Figure size 640x480 with 1 Axes>"
      ]
     },
     "metadata": {},
     "output_type": "display_data"
    }
   ],
   "source": [
    "c_gesamt = Gesamtfederrate(N,P)\n",
    "plt.hist(c_gesamt, bins = 30)\n",
    "\n",
    "print(f\" Durchschnittliche Federrate: {round(np.mean(c_gesamt),2)} N/mm\")\n",
    "print(f\" Varianz: {round(np.var(c_gesamt),2)} (N/mm)²\")\n",
    "print(f\" Standartabweichung: {round(np.std(c_gesamt),2)} N/mm \")"
   ]
  },
  {
   "cell_type": "code",
   "execution_count": null,
   "metadata": {},
   "outputs": [],
   "source": []
  },
  {
   "cell_type": "markdown",
   "metadata": {},
   "source": [
    "###"
   ]
  }
 ],
 "metadata": {
  "kernelspec": {
   "display_name": "Python 3",
   "language": "python",
   "name": "python3"
  },
  "language_info": {
   "codemirror_mode": {
    "name": "ipython",
    "version": 3
   },
   "file_extension": ".py",
   "mimetype": "text/x-python",
   "name": "python",
   "nbconvert_exporter": "python",
   "pygments_lexer": "ipython3",
   "version": "3.11.0"
  },
  "vscode": {
   "interpreter": {
    "hash": "ae3b893a0bc58c3148092dc90457c8592fff9682e4337f158c0293f1ec0e16f2"
   }
  }
 },
 "nbformat": 4,
 "nbformat_minor": 2
}

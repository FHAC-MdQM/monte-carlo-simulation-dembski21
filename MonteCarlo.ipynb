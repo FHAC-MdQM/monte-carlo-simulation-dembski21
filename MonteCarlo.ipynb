{
 "cells": [
  {
   "cell_type": "markdown",
   "metadata": {},
   "source": [
    "# Monte-Carlo Simulation\n",
    "\n",
    "## Aufgabenstellung\n",
    "\n",
    "Wir betrachten weiter den Federspeicher aus Assignment 1. Diesmal simulieren wir die Ergebnisse der Fertigung für $N=10.000$ Zylinder. In diesem Assignment kommt die Federrate dazu. Das Federpaket besteht aus 24 Einzelfedern, die ineinander gesteckt auf dem Umfang des Zylinder verteilt sind. Die Toleranzen der Federn sind recht groß. Die Federn sind nominal\n",
    "\n",
    "- $c_1 = (100 \\pm 20)\\, \\mathrm{N/mm}$ \n",
    "- $c_2 = (150 \\pm 30)\\, \\mathrm{N/mm}$ \n",
    "- $c_3 = (200 \\pm 40)\\, \\mathrm{N/mm}$ \n",
    "\n",
    "Die Gesamtfederrate ergibt sich als\n",
    "\n",
    "$$\n",
    "c = \\sum_{i=1}^{3} \\sum_{j=1}^{8} c_{i,j}\n",
    "$$\n",
    "\n",
    "Die geometrischen Eigenschaften entspricht dem ersten Assignment:\n",
    "\n",
    " - Deviation $d$/mm: Gleichverteilt, $[-0.05, 0.05]\\,\\mathrm{mm}$\n",
    " - Deviation $h_{1}$/mm: Gleichverteilt, $[-0.05, 0.05]\\,\\mathrm{mm}$\n",
    " - Deviation $h_{2}$/mm: Gleichverteilt, $[-0.05, 0.05]\\,\\mathrm{mm}$\n",
    " - Dev. $l$/mm: Gleichverteilt, $[-0.05, 0.05]\\,\\mathrm{mm}$\n",
    "\n",
    "Mit diesen Abweichungen vom Mittelwert ergibt sich die Kraft des Federspeichers als\n",
    "\n",
    "$$\n",
    "F = 2 i c(1 + h_1 + h_2 + l + d)\n",
    "$$\n",
    "\n",
    "mit der Übersetzungsrate des Zylinders $i = 2.6$.\n",
    "\n",
    "Fragestellungen:\n",
    "\n",
    "1. Federpaket:\n",
    "   - a. Wie verhält sich das Federpaket im nominalen Zustand? Simuliert dazu mindestens $N=10^4$ stochastisch unabhängige Einzelfedern und bestimmt die Federrate von aus diesen Federn zusammengesetzten Federpaketen.\n",
    "   - b. Die Federn $c_3$ liegen innerhalb der Toleranzen mit $c_3 < 200 \\, \\mathrm{N/mm}$. Wie ändert sich die Federrate?\n",
    "2. Federspeicherzylinder: Welche Verteilungen ergeben sich für die Federspeicherzylinder mit Federpakete nach a. bzw. b.? Wie entwickelt sich der Anteil der konformen Einheiten ($F_{min} = 18 \\,\\mathrm{kN}$)?\n",
    "\n",
    "Beantwortet die Fragestellungen in einem technischen Bericht mit Einleitung, Analyse und Beantwortung der Fragen."
   ]
  },
  {
   "cell_type": "markdown",
   "metadata": {
    "vscode": {
     "languageId": "plaintext"
    }
   },
   "source": [
    "# Assigment 3 Monte-Carlo-Simulation \n",
    "### a.Nominaler Zustand"
   ]
  },
  {
   "cell_type": "code",
   "execution_count": 34,
   "metadata": {},
   "outputs": [],
   "source": [
    "import numpy as np\n",
    "import matplotlib.pyplot as plt\n",
    "\n",
    "N = 10000"
   ]
  },
  {
   "cell_type": "markdown",
   "metadata": {},
   "source": [
    "Zu beginn erzeugen wir  $N=10^4$ stochastisch unabhängige Einzelfedern mit der Numpy.random Funktion"
   ]
  },
  {
   "cell_type": "code",
   "execution_count": 35,
   "metadata": {},
   "outputs": [],
   "source": [
    "def Simulation_Einzelfedern(N):\n",
    "    c1_values = np.random.uniform(80, 120, N)\n",
    "    c2_values = np.random.uniform(120, 180, N)\n",
    "    c3_values = np.random.uniform(160, 240, N)\n",
    "\n",
    "    return c1_values, c2_values, c3_values"
   ]
  },
  {
   "cell_type": "markdown",
   "metadata": {},
   "source": [
    "Nun werden die Simulierten Federn getestet, indem die Funktion mit dem Wert N=1 aufgerufen wird.  "
   ]
  },
  {
   "cell_type": "code",
   "execution_count": 36,
   "metadata": {},
   "outputs": [
    {
     "data": {
      "text/plain": [
       "(array([105.46681219]), array([157.39102741]), array([205.1181458]))"
      ]
     },
     "execution_count": 36,
     "metadata": {},
     "output_type": "execute_result"
    }
   ],
   "source": [
    "Simulation_Einzelfedern(1)\n"
   ]
  },
  {
   "cell_type": "markdown",
   "metadata": {},
   "source": [
    "Zu erkennen ist das jeweiles drei einzelne Federn generiert werden, welche einen Zufälligen Wert im Toleranz Bereich erhalten. "
   ]
  },
  {
   "cell_type": "markdown",
   "metadata": {},
   "source": [
    "Nun wird eine Funktion erstellt, womit die Federrate ausgerechnet wird. Hierbei handelt es sich "
   ]
  },
  {
   "cell_type": "code",
   "execution_count": 37,
   "metadata": {},
   "outputs": [],
   "source": [
    "def Gesamtfederrate(N):\n",
    "    c1_values, c2_values, c3_values = Simulation_Einzelfedern(N)\n",
    "\n",
    "    # Berechnung der Gesamtfederrate c\n",
    "    total_federrate = np.sum(np.sum([c1_values, c2_values, c3_values]))\n",
    "\n",
    "    return total_federrate"
   ]
  },
  {
   "cell_type": "code",
   "execution_count": 45,
   "metadata": {},
   "outputs": [
    {
     "name": "stdout",
     "output_type": "stream",
     "text": [
      "Gesamtfederrate für 10000 Einzelfedern: 4501768 N/mm\n"
     ]
    }
   ],
   "source": [
    "gesamtfederrate_beispiel = Gesamtfederrate(N)\n",
    "print(f\"Gesamtfederrate für {N} Einzelfedern: {int(gesamtfederrate_beispiel)} N/mm\")"
   ]
  },
  {
   "cell_type": "code",
   "execution_count": null,
   "metadata": {},
   "outputs": [],
   "source": []
  }
 ],
 "metadata": {
  "kernelspec": {
   "display_name": "Python 3",
   "language": "python",
   "name": "python3"
  },
  "language_info": {
   "codemirror_mode": {
    "name": "ipython",
    "version": 3
   },
   "file_extension": ".py",
   "mimetype": "text/x-python",
   "name": "python",
   "nbconvert_exporter": "python",
   "pygments_lexer": "ipython3",
   "version": "3.11.0"
  },
  "vscode": {
   "interpreter": {
    "hash": "ae3b893a0bc58c3148092dc90457c8592fff9682e4337f158c0293f1ec0e16f2"
   }
  }
 },
 "nbformat": 4,
 "nbformat_minor": 2
}
